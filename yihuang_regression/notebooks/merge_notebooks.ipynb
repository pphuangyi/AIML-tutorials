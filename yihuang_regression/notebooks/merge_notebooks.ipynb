{
 "cells": [
  {
   "cell_type": "code",
   "execution_count": 5,
   "metadata": {},
   "outputs": [],
   "source": [
    "import nbformat\n",
    "\n",
    "# Reading the notebooks\n",
    "notebook_1 = nbformat.read('regression_1_linear.ipynb', 4)\n",
    "notebook_2 = nbformat.read('regression_2_logistic.ipynb', 4)\n",
    "notebook_3 = nbformat.read('regression_3_regularization.ipynb', 4)\n",
    "notebook_4 = nbformat.read('regression_4_fromRegressionToNeuralNetwork.ipynb', 4)\n",
    "\n",
    "# Creating a new notebook\n",
    "final_notebook = nbformat.v4.new_notebook(metadata=notebook_1.metadata)\n",
    "\n",
    "# Concatenating the notebooks\n",
    "final_notebook.cells = notebook_1.cells + notebook_2.cells + notebook_3.cells + notebook_4.cells\n",
    "\n",
    "# Saving the new notebook \n",
    "nbformat.write(final_notebook, 'regression.ipynb')"
   ]
  },
  {
   "cell_type": "code",
   "execution_count": null,
   "metadata": {},
   "outputs": [],
   "source": []
  }
 ],
 "metadata": {
  "interpreter": {
   "hash": "4ad09f9fd21a1c2531abb4c3dadf7773a43b72e34365b59d6e5a1d67dfb327ce"
  },
  "kernelspec": {
   "display_name": "Python 3.9.2 64-bit",
   "language": "python",
   "name": "python3"
  },
  "language_info": {
   "codemirror_mode": {
    "name": "ipython",
    "version": 3
   },
   "file_extension": ".py",
   "mimetype": "text/x-python",
   "name": "python",
   "nbconvert_exporter": "python",
   "pygments_lexer": "ipython3",
   "version": "3.9.2"
  },
  "orig_nbformat": 4
 },
 "nbformat": 4,
 "nbformat_minor": 2
}
